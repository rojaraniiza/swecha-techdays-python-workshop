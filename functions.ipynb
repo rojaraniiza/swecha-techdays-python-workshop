{
 "cells": [
  {
   "cell_type": "markdown",
   "metadata": {},
   "source": [
    "### Python functions"
   ]
  },
  {
   "cell_type": "code",
   "execution_count": 2,
   "metadata": {
    "collapsed": true
   },
   "outputs": [],
   "source": [
    "#Creating a Function\n",
    "#In Python a function is defined using the def keyword:\n",
    "def function():\n",
    "      print(\"Hi from a function\") "
   ]
  },
  {
   "cell_type": "code",
   "execution_count": 3,
   "metadata": {},
   "outputs": [
    {
     "name": "stdout",
     "output_type": "stream",
     "text": [
      "Hi from a function\n"
     ]
    }
   ],
   "source": [
    "#Calling a function\n",
    "function()"
   ]
  },
  {
   "cell_type": "markdown",
   "metadata": {},
   "source": [
    "### Parameters\n",
    "\n",
    "Information can be passed to functions as parameter."
   ]
  },
  {
   "cell_type": "code",
   "execution_count": 6,
   "metadata": {},
   "outputs": [
    {
     "name": "stdout",
     "output_type": "stream",
     "text": [
      "My name is roja\n",
      "My name is swecha\n",
      "My name is python\n"
     ]
    }
   ],
   "source": [
    "def my_first_function(name):\n",
    "    print(\"My name is \"+ name)\n",
    "\n",
    "my_first_function(\"roja\")\n",
    "my_first_function(\"swecha\")\n",
    "my_first_function(\"python\")"
   ]
  },
  {
   "cell_type": "code",
   "execution_count": 7,
   "metadata": {},
   "outputs": [
    {
     "name": "stdout",
     "output_type": "stream",
     "text": [
      "I'm from INDIA\n",
      "I'm from Japan\n",
      "I'm from US\n"
     ]
    }
   ],
   "source": [
    "#Default Parameter Value\n",
    "def my_first_function(country = \"INDIA\"):\n",
    "    print(\"I'm from \"+ country)\n",
    "\n",
    "my_first_function()\n",
    "my_first_function(\"Japan\")\n",
    "my_first_function(\"US\")"
   ]
  },
  {
   "cell_type": "code",
   "execution_count": 8,
   "metadata": {},
   "outputs": [
    {
     "name": "stdout",
     "output_type": "stream",
     "text": [
      "15\n",
      "25\n",
      "45\n"
     ]
    }
   ],
   "source": [
    "#Return Values\n",
    "\n",
    "#To let a function return a value, use the return statement:\n",
    "def my_function(x):\n",
    "    return 5 * x\n",
    "\n",
    "print(my_function(3))\n",
    "print(my_function(5))\n",
    "print(my_function(9))"
   ]
  },
  {
   "cell_type": "code",
   "execution_count": 10,
   "metadata": {},
   "outputs": [
    {
     "name": "stdout",
     "output_type": "stream",
     "text": [
      "even\n",
      "odd\n"
     ]
    }
   ],
   "source": [
    "# A simple Python function to check \n",
    "# whether x is even or odd \n",
    "def evenOdd( x ): \n",
    "    if (x % 2 == 0): \n",
    "        print(\"even\")\n",
    "    else: \n",
    "        print(\"odd\")\n",
    "\n",
    "# Driver code \n",
    "evenOdd(2) \n",
    "evenOdd(3) \n"
   ]
  },
  {
   "cell_type": "code",
   "execution_count": 12,
   "metadata": {},
   "outputs": [
    {
     "name": "stdout",
     "output_type": "stream",
     "text": [
      "I'm applying for developer position\n",
      "I'm applying for manager position\n",
      "I'm applying for consultant position\n",
      "I'm applying for engineer position\n",
      "I'm applying for sales position\n",
      "I'm applying for assistant position\n"
     ]
    }
   ],
   "source": [
    "def job(x):\n",
    "    return(\"I'm applying for \"+x+ ' position')\n",
    "keywords = [\"developer\", \"manager\", \"consultant\", \"engineer\", \"sales\", \"assistant\"]\n",
    "for i in keywords:\n",
    "    print(job(i))"
   ]
  },
  {
   "cell_type": "code",
   "execution_count": 13,
   "metadata": {},
   "outputs": [
    {
     "name": "stdout",
     "output_type": "stream",
     "text": [
      "Hello, roja , From My Function!, I wish you good morning\n"
     ]
    }
   ],
   "source": [
    "def my_function_with_args(username, greeting):\n",
    "    print(\"Hello, %s , From My Function!, I wish you %s\"%(username, greeting))\n",
    "    \n",
    "my_function_with_args(\"roja\", \"good morning\")"
   ]
  }
 ],
 "metadata": {
  "kernelspec": {
   "display_name": "Python 3",
   "language": "python",
   "name": "python3"
  },
  "language_info": {
   "codemirror_mode": {
    "name": "ipython",
    "version": 3
   },
   "file_extension": ".py",
   "mimetype": "text/x-python",
   "name": "python",
   "nbconvert_exporter": "python",
   "pygments_lexer": "ipython3",
   "version": "3.6.3"
  }
 },
 "nbformat": 4,
 "nbformat_minor": 2
}
