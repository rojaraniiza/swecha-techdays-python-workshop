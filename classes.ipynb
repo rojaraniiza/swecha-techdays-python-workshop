{
 "cells": [
  {
   "cell_type": "code",
   "execution_count": null,
   "metadata": {},
   "outputs": [],
   "source": [
    "#Create a Class\n",
    "\n",
    "# To create a class, use the keyword class:\n",
    "# Example\n",
    "\n",
    "class SwechaClass:\n",
    "    name = \"swecha\" "
   ]
  },
  {
   "cell_type": "code",
   "execution_count": null,
   "metadata": {},
   "outputs": [],
   "source": [
    "#Create Object\n",
    "obj = SwechaClass()\n",
    "print(obj)\n",
    "print(obj.name)"
   ]
  },
  {
   "cell_type": "markdown",
   "metadata": {
    "collapsed": true
   },
   "source": [
    " ### The built-in __init__() function"
   ]
  },
  {
   "cell_type": "markdown",
   "metadata": {},
   "source": [
    "All the classes have funtions called init function, which is always executed when class is being initiated.\n",
    "Use the __init__() function to assign values to object properties, or other operations that are necessary to do when the object is being created:"
   ]
  },
  {
   "cell_type": "code",
   "execution_count": 5,
   "metadata": {},
   "outputs": [
    {
     "name": "stdout",
     "output_type": "stream",
     "text": [
      "swecha\n",
      "2005\n"
     ]
    }
   ],
   "source": [
    "class SwechaClass1:\n",
    "    def __init__(self, name, foundation):\n",
    "        self.name = name\n",
    "        self.age = foundation\n",
    "\n",
    "object1 = SwechaClass1(\"swecha\", 2005 )\n",
    "\n",
    "print(object1.name)\n",
    "print(object1.age) "
   ]
  },
  {
   "cell_type": "markdown",
   "metadata": {},
   "source": [
    "### The self Parameter\n",
    "The self parameter is a reference to the class itself, and is used to access variables that belongs to the class."
   ]
  },
  {
   "cell_type": "code",
   "execution_count": 10,
   "metadata": {},
   "outputs": [
    {
     "name": "stdout",
     "output_type": "stream",
     "text": [
      "swecha\n",
      "2005\n",
      "Our organisation name is  swecha\n",
      "None\n"
     ]
    }
   ],
   "source": [
    "class SwechaClass1:\n",
    "    def __init__(self, name, foundation):\n",
    "        self.name = name\n",
    "        self.age = foundation\n",
    "        \n",
    "    def my_func(self):\n",
    "        print(\"Our organisation name is \", self.name)\n",
    "        \n",
    "object1 = SwechaClass1(\"swecha\", 2005 )\n",
    "\n",
    "print(object1.name)\n",
    "print(object1.age) \n",
    "print(object1.my_func())"
   ]
  },
  {
   "cell_type": "code",
   "execution_count": 12,
   "metadata": {},
   "outputs": [
    {
     "name": "stdout",
     "output_type": "stream",
     "text": [
      "swecha\n",
      "2005\n",
      "Our organisation name is  swecha\n",
      "None\n"
     ]
    }
   ],
   "source": [
    "class SwechaClass1:\n",
    "    def __init__(asillyobject, name, foundation):\n",
    "        asillyobject.name = name\n",
    "        asillyobject.age = foundation\n",
    "        \n",
    "    def my_func(abc):\n",
    "        print(\"Our organisation name is \", abc.name)\n",
    "        \n",
    "object1 = SwechaClass1(\"swecha\", 2005 )\n",
    "\n",
    "print(object1.name)\n",
    "print(object1.age) \n",
    "print(object1.my_func())"
   ]
  },
  {
   "cell_type": "code",
   "execution_count": 13,
   "metadata": {},
   "outputs": [
    {
     "name": "stdout",
     "output_type": "stream",
     "text": [
      "brefore 2005\n",
      "changed 2006\n"
     ]
    }
   ],
   "source": [
    "#Modify Object Properties\n",
    "print(\"brefore\",object1.age)\n",
    "object1.age = 2006\n",
    "print(\"changed\", object1.age)"
   ]
  },
  {
   "cell_type": "code",
   "execution_count": 44,
   "metadata": {},
   "outputs": [
    {
     "name": "stdout",
     "output_type": "stream",
     "text": [
      "roja rani iza\n"
     ]
    }
   ],
   "source": [
    "#Python Inheritance\n",
    "class Person:\n",
    "    def __init__(self, fname, lname):\n",
    "        self.fname = fname\n",
    "        self.lname = lname\n",
    "\n",
    "    def printname(self):\n",
    "        print(self.fname, self.lname)\n",
    "\n",
    "#Use the Person class to create an object, and then execute the printname method:\n",
    "\n",
    "x = Person(\"roja rani\", \"iza\")\n",
    "x.printname() "
   ]
  },
  {
   "cell_type": "code",
   "execution_count": 16,
   "metadata": {
    "collapsed": true
   },
   "outputs": [],
   "source": [
    "#Create a Child Class\n",
    "class Student(Person):\n",
    "    pass"
   ]
  },
  {
   "cell_type": "code",
   "execution_count": 19,
   "metadata": {},
   "outputs": [
    {
     "name": "stdout",
     "output_type": "stream",
     "text": [
      "mary kom\n"
     ]
    }
   ],
   "source": [
    "child_obj = Student(\"mary\",\"kom\")\n",
    "child_obj.printname()"
   ]
  },
  {
   "cell_type": "code",
   "execution_count": 21,
   "metadata": {},
   "outputs": [],
   "source": [
    "#Add the __init__() Function\n",
    "class Student(Person):\n",
    "    def __init__(self,fname,lname):\n",
    "        #we can some properties etc. \n",
    "        pass"
   ]
  },
  {
   "cell_type": "markdown",
   "metadata": {},
   "source": [
    "When you add the __init__() funcion, the child class will no longer inherit the parent's __init__() function.\n",
    "\n",
    "Note: The child's __init__() function overrides the inheritance of the parent's __init__() function.\n",
    "    \n",
    "To keep the inheritance of the parent's __init__() function, add a call to the parent's __init__() function:"
   ]
  },
  {
   "cell_type": "code",
   "execution_count": 25,
   "metadata": {
    "collapsed": true
   },
   "outputs": [],
   "source": [
    "class Student(Person):\n",
    "    def __init__(self,fname,lname):\n",
    "        Person.__init__(self,fname,lname)"
   ]
  },
  {
   "cell_type": "code",
   "execution_count": 26,
   "metadata": {},
   "outputs": [
    {
     "name": "stdout",
     "output_type": "stream",
     "text": [
      "Vijandhar singh\n"
     ]
    }
   ],
   "source": [
    "obj2 = Student(\"Vijandhar\", \"singh\")\n",
    "obj2.printname()"
   ]
  },
  {
   "cell_type": "code",
   "execution_count": 27,
   "metadata": {
    "collapsed": true
   },
   "outputs": [],
   "source": [
    "#Add Properties\n",
    "class Student(Person):\n",
    "    def __init__(self,fname,lname,branch,college_name):\n",
    "        Person.__init__(self,fname,lname)\n",
    "        self.branch = branch\n",
    "        self.college_name = college_name\n",
    "        "
   ]
  },
  {
   "cell_type": "code",
   "execution_count": 31,
   "metadata": {},
   "outputs": [
    {
     "name": "stdout",
     "output_type": "stream",
     "text": [
      "ECE\n",
      "IIIT R.k valley\n"
     ]
    }
   ],
   "source": [
    "obj3 = Student(\"roja\",\"rani\",\"ECE\",\"IIIT R.k valley\")\n",
    "print(obj3.branch)\n",
    "print(obj3.college_name)"
   ]
  },
  {
   "cell_type": "code",
   "execution_count": 45,
   "metadata": {
    "collapsed": true
   },
   "outputs": [],
   "source": [
    "#add methods\n",
    "class Student(Person):\n",
    "    def __init__(self,fname,lname,branch,graduation_year):\n",
    "        Person.__init__(self,fname,lname)\n",
    "        self.branch = branch\n",
    "        self.graduation_year = graduation_year\n",
    "        \n",
    "    def student_details(self):\n",
    "            print(\"student details are\", self.fname,self.lname, self.branch,self.graduation_year)"
   ]
  },
  {
   "cell_type": "code",
   "execution_count": 46,
   "metadata": {},
   "outputs": [
    {
     "name": "stdout",
     "output_type": "stream",
     "text": [
      "student details are roja rani iza ECE 2017\n"
     ]
    }
   ],
   "source": [
    "obj4 = Student(\"roja rani\",\"iza\",\"ECE\",2017)\n",
    "obj4.student_details()"
   ]
  },
  {
   "cell_type": "code",
   "execution_count": null,
   "metadata": {
    "collapsed": true
   },
   "outputs": [],
   "source": []
  }
 ],
 "metadata": {
  "kernelspec": {
   "display_name": "Python 3",
   "language": "python",
   "name": "python3"
  },
  "language_info": {
   "codemirror_mode": {
    "name": "ipython",
    "version": 3
   },
   "file_extension": ".py",
   "mimetype": "text/x-python",
   "name": "python",
   "nbconvert_exporter": "python",
   "pygments_lexer": "ipython3",
   "version": "3.6.3"
  }
 },
 "nbformat": 4,
 "nbformat_minor": 2
}
