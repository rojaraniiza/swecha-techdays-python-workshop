{
 "cells": [
  {
   "cell_type": "code",
   "execution_count": null,
   "metadata": {},
   "outputs": [],
   "source": [
    "#Create a Class\n",
    "\n",
    "# To create a class, use the keyword class:\n",
    "# Example\n",
    "\n",
    "class SwechaClass:\n",
    "    name = \"swecha\" "
   ]
  },
  {
   "cell_type": "code",
   "execution_count": null,
   "metadata": {},
   "outputs": [],
   "source": [
    "#Create Object\n",
    "obj = SwechaClass()\n",
    "print(obj)\n",
    "print(obj.name)"
   ]
  },
  {
   "cell_type": "markdown",
   "metadata": {
    "collapsed": true
   },
   "source": [
    " ### The built-in __init__() function"
   ]
  },
  {
   "cell_type": "markdown",
   "metadata": {},
   "source": [
    "All the classes have funtions called init function, which is always executed when class is being initiated.\n",
    "Use the __init__() function to assign values to object properties, or other operations that are necessary to do when the object is being created:"
   ]
  },
  {
   "cell_type": "code",
   "execution_count": 5,
   "metadata": {},
   "outputs": [
    {
     "name": "stdout",
     "output_type": "stream",
     "text": [
      "swecha\n",
      "2005\n"
     ]
    }
   ],
   "source": [
    "class SwechaClass1:\n",
    "    def __init__(self, name, foundation):\n",
    "        self.name = name\n",
    "        self.age = foundation\n",
    "\n",
    "object1 = SwechaClass1(\"swecha\", 2005 )\n",
    "\n",
    "print(object1.name)\n",
    "print(object1.age) "
   ]
  },
  {
   "cell_type": "markdown",
   "metadata": {},
   "source": [
    "### The self Parameter\n",
    "The self parameter is a reference to the class itself, and is used to access variables that belongs to the class.\n",
    "*** By using the \"self\" keyword we can access the attributes and methods of the class in python. ***"
   ]
  },
  {
   "cell_type": "code",
   "execution_count": 10,
   "metadata": {},
   "outputs": [
    {
     "name": "stdout",
     "output_type": "stream",
     "text": [
      "swecha\n",
      "2005\n",
      "Our organisation name is  swecha\n",
      "None\n"
     ]
    }
   ],
   "source": [
    "class SwechaClass1:\n",
    "    def __init__(self, name, foundation):\n",
    "        self.name = name\n",
    "        self.age = foundation\n",
    "        \n",
    "    def my_func(self):\n",
    "        print(\"Our organisation name is \", self.name)\n",
    "        \n",
    "object1 = SwechaClass1(\"swecha\", 2005 )\n",
    "\n",
    "print(object1.name)\n",
    "print(object1.age) \n",
    "print(object1.my_func())"
   ]
  },
  {
   "cell_type": "code",
   "execution_count": 12,
   "metadata": {},
   "outputs": [
    {
     "name": "stdout",
     "output_type": "stream",
     "text": [
      "swecha\n",
      "2005\n",
      "Our organisation name is  swecha\n",
      "None\n"
     ]
    }
   ],
   "source": [
    "class SwechaClass1:\n",
    "    def __init__(asillyobject, name, foundation):\n",
    "        asillyobject.name = name\n",
    "        asillyobject.age = foundation\n",
    "        \n",
    "    def my_func(abc):\n",
    "        print(\"Our organisation name is \", abc.name)\n",
    "        \n",
    "object1 = SwechaClass1(\"swecha\", 2005 )\n",
    "\n",
    "print(object1.name)\n",
    "print(object1.age) \n",
    "print(object1.my_func())"
   ]
  },
  {
   "cell_type": "code",
   "execution_count": 13,
   "metadata": {},
   "outputs": [
    {
     "name": "stdout",
     "output_type": "stream",
     "text": [
      "brefore 2005\n",
      "changed 2006\n"
     ]
    }
   ],
   "source": [
    "#Modify Object Properties\n",
    "print(\"brefore\",object1.age)\n",
    "object1.age = 2006\n",
    "print(\"changed\", object1.age)"
   ]
  },
  {
   "cell_type": "code",
   "execution_count": 44,
   "metadata": {},
   "outputs": [
    {
     "name": "stdout",
     "output_type": "stream",
     "text": [
      "roja rani iza\n"
     ]
    }
   ],
   "source": [
    "#Python Inheritance\n",
    "class Person:\n",
    "    def __init__(self, fname, lname):\n",
    "        self.fname = fname\n",
    "        self.lname = lname\n",
    "\n",
    "    def printname(self):\n",
    "        print(self.fname, self.lname)\n",
    "\n",
    "#Use the Person class to create an object, and then execute the printname method:\n",
    "\n",
    "x = Person(\"roja rani\", \"iza\")\n",
    "x.printname() "
   ]
  },
  {
   "cell_type": "code",
   "execution_count": 16,
   "metadata": {
    "collapsed": true
   },
   "outputs": [],
   "source": [
    "#Create a Child Class\n",
    "class Student(Person):\n",
    "    pass"
   ]
  },
  {
   "cell_type": "code",
   "execution_count": 19,
   "metadata": {},
   "outputs": [
    {
     "name": "stdout",
     "output_type": "stream",
     "text": [
      "mary kom\n"
     ]
    }
   ],
   "source": [
    "child_obj = Student(\"mary\",\"kom\")\n",
    "child_obj.printname()"
   ]
  },
  {
   "cell_type": "code",
   "execution_count": 21,
   "metadata": {},
   "outputs": [],
   "source": [
    "#Add the __init__() Function\n",
    "class Student(Person):\n",
    "    def __init__(self,fname,lname):\n",
    "        #we can some properties etc. \n",
    "        pass"
   ]
  },
  {
   "cell_type": "markdown",
   "metadata": {},
   "source": [
    "When you add the __init__() funcion, the child class will no longer inherit the parent's __init__() function.\n",
    "\n",
    "Note: The child's __init__() function overrides the inheritance of the parent's __init__() function.\n",
    "    \n",
    "To keep the inheritance of the parent's __init__() function, add a call to the parent's __init__() function:"
   ]
  },
  {
   "cell_type": "code",
   "execution_count": 25,
   "metadata": {
    "collapsed": true
   },
   "outputs": [],
   "source": [
    "class Student(Person):\n",
    "    def __init__(self,fname,lname):\n",
    "        Person.__init__(self,fname,lname)"
   ]
  },
  {
   "cell_type": "code",
   "execution_count": 26,
   "metadata": {},
   "outputs": [
    {
     "name": "stdout",
     "output_type": "stream",
     "text": [
      "Vijandhar singh\n"
     ]
    }
   ],
   "source": [
    "obj2 = Student(\"Vijandhar\", \"singh\")\n",
    "obj2.printname()"
   ]
  },
  {
   "cell_type": "code",
   "execution_count": 27,
   "metadata": {
    "collapsed": true
   },
   "outputs": [],
   "source": [
    "#Add Properties\n",
    "class Student(Person):\n",
    "    def __init__(self,fname,lname,branch,college_name):\n",
    "        Person.__init__(self,fname,lname)\n",
    "        self.branch = branch\n",
    "        self.college_name = college_name\n",
    "        "
   ]
  },
  {
   "cell_type": "code",
   "execution_count": 31,
   "metadata": {},
   "outputs": [
    {
     "name": "stdout",
     "output_type": "stream",
     "text": [
      "ECE\n",
      "IIIT R.k valley\n"
     ]
    }
   ],
   "source": [
    "obj3 = Student(\"roja\",\"rani\",\"ECE\",\"IIIT R.k valley\")\n",
    "print(obj3.branch)\n",
    "print(obj3.college_name)"
   ]
  },
  {
   "cell_type": "code",
   "execution_count": 45,
   "metadata": {
    "collapsed": true
   },
   "outputs": [],
   "source": [
    "#add methods\n",
    "class Student(Person):\n",
    "    def __init__(self,fname,lname,branch,graduation_year):\n",
    "        Person.__init__(self,fname,lname)\n",
    "        self.branch = branch\n",
    "        self.graduation_year = graduation_year\n",
    "        \n",
    "    def student_details(self):\n",
    "            print(\"student details are\", self.fname,self.lname, self.branch,self.graduation_year)"
   ]
  },
  {
   "cell_type": "code",
   "execution_count": 46,
   "metadata": {},
   "outputs": [
    {
     "name": "stdout",
     "output_type": "stream",
     "text": [
      "student details are roja rani iza ECE 2017\n"
     ]
    }
   ],
   "source": [
    "obj4 = Student(\"roja rani\",\"iza\",\"ECE\",2017)\n",
    "obj4.student_details()"
   ]
  },
  {
   "cell_type": "code",
   "execution_count": 51,
   "metadata": {},
   "outputs": [
    {
     "name": "stdout",
     "output_type": "stream",
     "text": [
      "roja\n",
      "iza.roja1855@gmail.com\n",
      "22\n"
     ]
    }
   ],
   "source": [
    "#An example of a simple custom class which stores information about a person:\n",
    "\n",
    "import datetime # we will use this for date objects\n",
    "\n",
    "class Person:\n",
    "\n",
    "    def __init__(self, name, surname, birthdate, address, telephone, email):\n",
    "        self.name = name\n",
    "        self.surname = surname\n",
    "        self.birthdate = birthdate\n",
    "\n",
    "        self.address = address\n",
    "        self.telephone = telephone\n",
    "        self.email = email\n",
    "\n",
    "    def age(self):\n",
    "        today = datetime.date.today()\n",
    "        age = today.year - self.birthdate.year\n",
    "\n",
    "        if today < datetime.date(today.year, self.birthdate.month, self.birthdate.day):\n",
    "            age -= 1\n",
    "\n",
    "        return(age)\n",
    "\n",
    "person = Person(\n",
    "    \"roja\",\n",
    "    \"rani\",\n",
    "    datetime.date(1996, 6, 3), # year, month, day\n",
    "    \"Gachibowli,hyderabad\",\n",
    "    \"555 456 0987\",\n",
    "    \"iza.roja1855@gmail.com\"\n",
    ")\n",
    "\n",
    "print(person.name)\n",
    "print(person.email)\n",
    "print(person.age())\n"
   ]
  },
  {
   "cell_type": "code",
   "execution_count": 16,
   "metadata": {},
   "outputs": [
    {
     "name": "stdout",
     "output_type": "stream",
     "text": [
      "Amount greater than available balance.\n",
      "balance is 25000\n",
      "25050\n"
     ]
    }
   ],
   "source": [
    "class Customer:\n",
    "    \"\"\"A customer of SBI Bank with a checking account. Customers have the\n",
    "    following properties:\n",
    "\n",
    "    Attributes:\n",
    "        name: A string representing the customer's name.\n",
    "        balance: A float tracking the current balance of the customer's account.\n",
    "    \"\"\"\n",
    "\n",
    "    def __init__(self, name, balance=0.0):\n",
    "        \"\"\"Return a Customer object whose name is *name* and starting\n",
    "        balance is *balance*.\"\"\"\n",
    "        self.name = name\n",
    "        self.balance = balance\n",
    "\n",
    "    def withdraw(self, amount):\n",
    "        \"\"\"Return the balance remaining after withdrawing *amount*\n",
    "        dollars.\"\"\"\n",
    "        if amount > self.balance:\n",
    "            print('Amount greater than available balance.')\n",
    "            return(\"balance is \"+ str(self.balance))\n",
    "        self.balance -= amount\n",
    "        return self.balance\n",
    "\n",
    "    def deposit(self, amount):\n",
    "        \"\"\"Return the balance remaining after depositing *amount*\n",
    "        dollars.\"\"\"\n",
    "        self.balance += amount\n",
    "        return self.balance\n",
    "customer_obj = Customer(\"roja rani iza\", 25000)\n",
    "print(customer_obj.withdraw(35000))\n",
    "print(customer_obj.deposit(50))"
   ]
  },
  {
   "cell_type": "code",
   "execution_count": 18,
   "metadata": {},
   "outputs": [
    {
     "name": "stdout",
     "output_type": "stream",
     "text": [
      "Jimmy is 12 years old\n",
      "Jimmy runs slowly\n"
     ]
    }
   ],
   "source": [
    "# Parent class\n",
    "class Dog:\n",
    "\n",
    "    # Initializer / Instance attributes\n",
    "    def __init__(self, name, age):\n",
    "        self.name = name\n",
    "        self.age = age\n",
    "\n",
    "    # instance method\n",
    "    def description(self):\n",
    "        return \"{} is {} years old\".format(self.name, self.age)\n",
    "\n",
    "    # instance method\n",
    "    def speak(self, sound):\n",
    "        return \"{} says {}\".format(self.name, sound)\n",
    "\n",
    "\n",
    "# Child class (inherits from Dog class)\n",
    "class RussellTerrier(Dog):\n",
    "    def run(self, speed):\n",
    "        return \"{} runs {}\".format(self.name, speed)\n",
    "\n",
    "\n",
    "# Child class (inherits from Dog class)\n",
    "class Bulldog(Dog):\n",
    "    def run(self, speed):\n",
    "        return \"{} runs {}\".format(self.name, speed)\n",
    "\n",
    "\n",
    "# Child classes inherit attributes and\n",
    "# behaviors from the parent class\n",
    "jimmy = Bulldog(\"Jimmy\", 12)\n",
    "print(jimmy.description())\n",
    "\n",
    "# Child classes have specific attributes\n",
    "# and behaviors as well\n",
    "print(jimmy.run(\"slowly\"))"
   ]
  },
  {
   "cell_type": "code",
   "execution_count": 26,
   "metadata": {},
   "outputs": [],
   "source": [
    "class Car(object):\n",
    "    \"\"\"\n",
    "        blueprint for car\n",
    "    \"\"\"\n",
    "\n",
    "    def __init__(self, model, color, company, speed_limit):\n",
    "        self.color = color\n",
    "        self.company = company\n",
    "        self.speed_limit = speed_limit\n",
    "        self.model = model\n",
    "        print(\"New object is initialized\")\n",
    "\n",
    "    def start(self):\n",
    "        print(\"started\")\n",
    "\n",
    "    def stop(self):\n",
    "        print(\"stopped\")\n",
    "\n",
    "    def accelarate(self):\n",
    "        print(\"accelarating...\")\n",
    "        \"accelarator functionality here\"\n",
    "\n",
    "    def change_gear(self, gear_type):\n",
    "        print(\"gear changed\")\n",
    "        \" gear related functionality here\""
   ]
  },
  {
   "cell_type": "code",
   "execution_count": 20,
   "metadata": {
    "collapsed": true
   },
   "outputs": [],
   "source": [
    "#Lets try to create different types of cars\n",
    "\n",
    "maruthi_suzuki = Car(\"ertiga\", \"black\", \"suzuki\", 60)\n",
    "audi = Car(\"A6\", \"red\", \"audi\", 80)"
   ]
  },
  {
   "cell_type": "code",
   "execution_count": null,
   "metadata": {
    "collapsed": true
   },
   "outputs": [],
   "source": []
  }
 ],
 "metadata": {
  "kernelspec": {
   "display_name": "Python 3",
   "language": "python",
   "name": "python3"
  },
  "language_info": {
   "codemirror_mode": {
    "name": "ipython",
    "version": 3
   },
   "file_extension": ".py",
   "mimetype": "text/x-python",
   "name": "python",
   "nbconvert_exporter": "python",
   "pygments_lexer": "ipython3",
   "version": "3.6.3"
  }
 },
 "nbformat": 4,
 "nbformat_minor": 2
}
