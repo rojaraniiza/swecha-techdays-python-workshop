{
 "cells": [
  {
   "cell_type": "markdown",
   "metadata": {},
   "source": [
    "Following Python code shows how to connect to an existing database. If the database does not exist, then it will be created and finally a database object will be returned."
   ]
  },
  {
   "cell_type": "code",
   "execution_count": 1,
   "metadata": {},
   "outputs": [
    {
     "name": "stdout",
     "output_type": "stream",
     "text": [
      "Opened database successfully\n"
     ]
    }
   ],
   "source": [
    "#Connect To Database\n",
    "import sqlite3\n",
    "\n",
    "conn = sqlite3.connect('testdb1.db')\n",
    "\n",
    "print(\"Opened database successfully\")"
   ]
  },
  {
   "cell_type": "code",
   "execution_count": 4,
   "metadata": {
    "code_folding": []
   },
   "outputs": [
    {
     "name": "stdout",
     "output_type": "stream",
     "text": [
      "Opened database successfully\n",
      "Table created successfully\n"
     ]
    }
   ],
   "source": [
    "##Create a Table\n",
    "#!/usr/bin/python\n",
    "\n",
    "import sqlite3\n",
    "\n",
    "conn = sqlite3.connect('testdb1.db')\n",
    "print(\"Opened database successfully\")\n",
    "\n",
    "conn.execute('''CREATE TABLE WORKCOMPANY\n",
    "         (ID            INT     PRIMARY KEY     NOT NULL,\n",
    "         NAME           TEXT    NOT NULL,\n",
    "         AGE            INT     NOT NULL,\n",
    "         ADDRESS        CHAR(50),\n",
    "         SALARY         INT );''')\n",
    "print(\"Table created successfully\")\n",
    "\n",
    "conn.close()"
   ]
  },
  {
   "cell_type": "code",
   "execution_count": 5,
   "metadata": {},
   "outputs": [
    {
     "name": "stdout",
     "output_type": "stream",
     "text": [
      "Opened database successfully\n",
      "Records created successfully\n"
     ]
    }
   ],
   "source": [
    "#INSERT Operation\n",
    "#!/usr/bin/python\n",
    "\n",
    "import sqlite3\n",
    "\n",
    "conn = sqlite3.connect('testdb1.db')\n",
    "print(\"Opened database successfully\")\n",
    "\n",
    "conn.execute(\"INSERT INTO WORKCOMPANY (ID,NAME,AGE,ADDRESS,SALARY) \\\n",
    "      VALUES (1, 'Paul', 32, 'California', 20000.00 )\");\n",
    "\n",
    "conn.execute(\"INSERT INTO WORKCOMPANY (ID,NAME,AGE,ADDRESS,SALARY) \\\n",
    "      VALUES (2, 'Allen', 25, 'Texas', 15000.00 )\");\n",
    "\n",
    "conn.execute(\"INSERT INTO WORKCOMPANY (ID,NAME,AGE,ADDRESS,SALARY) \\\n",
    "      VALUES (3, 'Teddy', 23, 'Norway', 20000.00 )\");\n",
    "\n",
    "conn.execute(\"INSERT INTO WORKCOMPANY (ID,NAME,AGE,ADDRESS,SALARY) \\\n",
    "      VALUES (4, 'Mark', 25, 'Rich-Mond ', 65000.00 )\");\n",
    "\n",
    "conn.commit()\n",
    "print(\"Records created successfully\")\n",
    "conn.close()"
   ]
  },
  {
   "cell_type": "code",
   "execution_count": 6,
   "metadata": {},
   "outputs": [
    {
     "name": "stdout",
     "output_type": "stream",
     "text": [
      "Opened database successfully\n",
      "Table created successfully\n"
     ]
    }
   ],
   "source": [
    "#create another table contacts\n",
    "import sqlite3\n",
    "\n",
    "conn = sqlite3.connect('testdb1.db')\n",
    "print(\"Opened database successfully\")\n",
    "\n",
    "conn.execute('''CREATE TABLE CONTACTS(\n",
    "         ID             INT     PRIMARY KEY NOT NULL,\n",
    "         NAME           TEXT    NOT NULL,\n",
    "         EMAIL          TEXT    NOT NULL UNIQUE,\n",
    "         PHONE          INT     NOT NULL UNIQUE\n",
    "         );\n",
    "         ''')\n",
    "print(\"Table created successfully\")\n",
    "\n",
    "conn.close()"
   ]
  },
  {
   "cell_type": "code",
   "execution_count": 7,
   "metadata": {},
   "outputs": [
    {
     "name": "stdout",
     "output_type": "stream",
     "text": [
      "Opened database successfully\n"
     ]
    }
   ],
   "source": [
    "import sqlite3\n",
    "\n",
    "conn = sqlite3.connect('testdb1.db')\n",
    "print(\"Opened database successfully\")\n",
    "conn.execute('''CREATE TABLE STUDENT(\n",
    "         ID             INT     PRIMARY KEY NOT NULL,\n",
    "         NAME           TEXT    NOT NULL,\n",
    "         AGE            INT     NOT NULL UNIQUE,\n",
    "         SALARY         INT     NOT NULL UNIQUE,\n",
    "         ADDRESS        TEXT    \n",
    "         );\n",
    "         ''')\n",
    "conn.close()"
   ]
  },
  {
   "cell_type": "code",
   "execution_count": 8,
   "metadata": {},
   "outputs": [
    {
     "name": "stdout",
     "output_type": "stream",
     "text": [
      "Opened database successfully\n",
      "Records created successfully\n"
     ]
    }
   ],
   "source": [
    "import sqlite3\n",
    "\n",
    "conn = sqlite3.connect('testdb1.db')\n",
    "print(\"Opened database successfully\")\n",
    "conn.execute(\"INSERT INTO STUDENT (ID,NAME,AGE,SALARY) \\\n",
    "      VALUES (1, 'Paul', 32,  20000.00 )\");\n",
    "\n",
    "conn.execute(\"INSERT INTO STUDENT (ID,NAME,AGE,SALARY) \\\n",
    "      VALUES (2, 'Allen', 29,  15000.00 )\");\n",
    "\n",
    "conn.execute(\"INSERT INTO STUDENT (ID,NAME,AGE,SALARY) \\\n",
    "      VALUES (3, 'Teddy', 23, 22000.00 )\");\n",
    "\n",
    "conn.execute(\"INSERT INTO STUDENT (ID,NAME,AGE,SALARY) \\\n",
    "      VALUES (4, 'Mark', 25, 65000.00 )\");\n",
    "\n",
    "conn.commit()\n",
    "print(\"Records created successfully\")\n",
    "conn.close()"
   ]
  },
  {
   "cell_type": "code",
   "execution_count": 9,
   "metadata": {},
   "outputs": [
    {
     "name": "stdout",
     "output_type": "stream",
     "text": [
      "ID =  1\n",
      "NAME =  Paul\n",
      "ADDRESS =  32\n",
      "SALARY =  20000 \n",
      "\n",
      "ID =  2\n",
      "NAME =  Allen\n",
      "ADDRESS =  29\n",
      "SALARY =  15000 \n",
      "\n",
      "ID =  3\n",
      "NAME =  Teddy\n",
      "ADDRESS =  23\n",
      "SALARY =  22000 \n",
      "\n",
      "ID =  4\n",
      "NAME =  Mark\n",
      "ADDRESS =  25\n",
      "SALARY =  65000 \n",
      "\n"
     ]
    }
   ],
   "source": [
    "#SELECT Operation\n",
    "#display records from the table\n",
    "#!/usr/bin/python\n",
    "\n",
    "import sqlite3\n",
    "\n",
    "conn = sqlite3.connect('testdb.db')\n",
    "\n",
    "cursor = conn.execute(\"SELECT * from STUDENT\")\n",
    "for row in cursor:\n",
    "    print(\"ID = \", row[0])\n",
    "    print(\"NAME = \", row[1])\n",
    "    print(\"ADDRESS = \", row[2])\n",
    "    print(\"SALARY = \", row[3], \"\\n\")\n",
    "\n",
    "conn.close()"
   ]
  },
  {
   "cell_type": "code",
   "execution_count": 13,
   "metadata": {},
   "outputs": [
    {
     "name": "stdout",
     "output_type": "stream",
     "text": [
      "Total number of rows updated : 1\n",
      "id, 1\n",
      "NAME =  Paul\n",
      "age 32\n",
      "ADDRESS =  California\n",
      "SALARY =  24800 \n",
      "\n",
      "id, 2\n",
      "NAME =  Allen\n",
      "age 25\n",
      "ADDRESS =  Texas\n",
      "SALARY =  15000 \n",
      "\n",
      "id, 3\n",
      "NAME =  Teddy\n",
      "age 23\n",
      "ADDRESS =  Norway\n",
      "SALARY =  20000 \n",
      "\n",
      "id, 4\n",
      "NAME =  Mark\n",
      "age 25\n",
      "ADDRESS =  Rich-Mond \n",
      "SALARY =  65000 \n",
      "\n"
     ]
    }
   ],
   "source": [
    "#UPDATE Operation\n",
    "import sqlite3\n",
    "\n",
    "conn = sqlite3.connect('testdb1.db')\n",
    "conn.execute(\"UPDATE WORKCOMPANY set SALARY = 24800.00 where ID = 1\")\n",
    "conn.commit\n",
    "print(\"Total number of rows updated :\", conn.total_changes)\n",
    "cursor = conn.execute(\"SELECT id,name,age,address,salary from WORKCOMPANY\")\n",
    "for row in cursor:\n",
    "    print(\"id,\", row[0])\n",
    "    print(\"NAME = \", row[1])\n",
    "    print('age', row[2])\n",
    "    print(\"ADDRESS = \", row[3])\n",
    "    print(\"SALARY = \", row[4], \"\\n\")\n",
    "conn.close()"
   ]
  },
  {
   "cell_type": "code",
   "execution_count": 14,
   "metadata": {},
   "outputs": [
    {
     "name": "stdout",
     "output_type": "stream",
     "text": [
      "changes 1\n",
      "id, 1\n",
      "NAME =  Paul\n",
      "ADDRESS =  California\n",
      "SALARY =  20000 \n",
      "\n",
      "id, 3\n",
      "NAME =  Teddy\n",
      "ADDRESS =  Norway\n",
      "SALARY =  20000 \n",
      "\n",
      "id, 4\n",
      "NAME =  Mark\n",
      "ADDRESS =  Rich-Mond \n",
      "SALARY =  65000 \n",
      "\n"
     ]
    }
   ],
   "source": [
    "#DELETE operation\n",
    "import sqlite3\n",
    "conn = sqlite3.connect('testdb1.db')\n",
    "conn.execute(\"DELETE from WORKCOMPANY where ID = 2\")\n",
    "conn.commit\n",
    "print(\"changes\", conn.total_changes)\n",
    "cursor = conn.execute(\"SELECT id,name,address,salary from WORKCOMPANY\")\n",
    "for row in cursor:\n",
    "    print(\"id,\", row[0])\n",
    "    print(\"NAME = \", row[1])\n",
    "    print(\"ADDRESS = \", row[2])\n",
    "    print(\"SALARY = \", row[3], \"\\n\")\n",
    "conn.close()"
   ]
  },
  {
   "cell_type": "code",
   "execution_count": null,
   "metadata": {
    "collapsed": true
   },
   "outputs": [],
   "source": [
    "import sqlite3\n",
    "connection = sqlite3.connect(\"swechadb.db\")\n",
    "connection.close()"
   ]
  },
  {
   "cell_type": "code",
   "execution_count": null,
   "metadata": {
    "collapsed": true
   },
   "outputs": [],
   "source": [
    "connection = sqlite3.connect(\"swechadb.db\")\n",
    "connection.execute('''CREATE TABLE books(\n",
    "    id      INT    PRIMARY KEY,\n",
    "    NAME    TEXT,\n",
    "    TOPIC   TEXT,\n",
    "    DATE    DATE\n",
    ");''')\n",
    "connection.close()"
   ]
  },
  {
   "cell_type": "code",
   "execution_count": null,
   "metadata": {
    "collapsed": true
   },
   "outputs": [],
   "source": [
    "import sqlite3\n",
    "connection = sqlite3.connect(\"swechadb.db\")\n",
    "connection.execute('''INSERT INTO books(id,NAME,TOPIC,DATE)\n",
    "VALUES(1,\"Swechabook\",\"free software moment\",2019-12-9)''')\n",
    "connection.commit()\n",
    "connection.close()"
   ]
  },
  {
   "cell_type": "code",
   "execution_count": null,
   "metadata": {},
   "outputs": [],
   "source": [
    "import sqlite3\n",
    "connection = sqlite3.connect(\"swechadb.db\")\n",
    "cursor = connection.execute('''SELECT id,NAME,TOPIC,DATE FROM books''')\n",
    "for row in cursor.fetchall():\n",
    "    print(row)\n"
   ]
  },
  {
   "cell_type": "code",
   "execution_count": null,
   "metadata": {
    "code_folding": []
   },
   "outputs": [],
   "source": [
    "import sqlite3\n",
    "connection = sqlite3.connect(\"swechadb.db\")\n",
    "connection.execute(\"UPDATE books set TOPIC='software moment' where id = 1\")\n",
    "connection.commit\n",
    "cursor = connection.execute(\"SELECT * from books\")\n",
    "for row in cursor:\n",
    "    print(row)\n",
    "connection.close()"
   ]
  },
  {
   "cell_type": "code",
   "execution_count": null,
   "metadata": {},
   "outputs": [],
   "source": [
    "import sqlite3\n",
    "connection = sqlite3.connect(\"swechadb.db\")\n",
    "connection.execute(\"INSERT INTO books VALUES(4,'SOFTWARE4','software4','2019-03-18')\")\n",
    "connection.commit\n",
    "cursor = connection.execute(\"SELECT * from books\")\n",
    "for row in cursor:\n",
    "    print(row)\n",
    "connection.close()"
   ]
  },
  {
   "cell_type": "code",
   "execution_count": null,
   "metadata": {
    "collapsed": true
   },
   "outputs": [],
   "source": [
    "#!/usr/bin/env python2\n",
    "# -*- coding: utf-8 -*-\n",
    "\n",
    "import sqlite3 as lite\n",
    "\n",
    "con = lite.connect('swechadb.db')\n",
    "con.execute(\"CREATE TABLE cars(id INT, name TEXT, price INT)\")\n",
    "con.execute(\"INSERT INTO cars VALUES(1,'Audi',52642)\")\n",
    "con.execute(\"INSERT INTO cars VALUES(2,'Mercedes',57127)\")\n",
    "con.execute(\"INSERT INTO cars VALUES(3,'Skoda',9000)\")\n",
    "con.execute(\"INSERT INTO cars VALUES(4,'Volvo',29000)\")\n",
    "con.execute(\"INSERT INTO cars VALUES(5,'Bentley',350000)\")\n",
    "con.execute(\"INSERT INTO cars VALUES(6,'Citroen',21000)\")\n",
    "con.execute(\"INSERT INTO cars VALUES(7,'Hummer',41400)\")\n",
    "con.execute(\"INSERT INTO cars VALUES(8,'Volkswagen',21600)\")\n",
    "con.commit()\n",
    "con.close()"
   ]
  },
  {
   "cell_type": "code",
   "execution_count": null,
   "metadata": {},
   "outputs": [],
   "source": [
    "con = lite.connect('swechadb.db')\n",
    "cursor = con.execute(\"SELECT * from cars\")\n",
    "for row in cursor.fetchall():\n",
    "    print(row)"
   ]
  },
  {
   "cell_type": "code",
   "execution_count": null,
   "metadata": {},
   "outputs": [],
   "source": [
    "con.execute(\"UPDATE cars set price = 53000 where id = 1\")\n",
    "con.commit()\n",
    "cursor = con.execute(\"SELECT * from cars\")\n",
    "for row in cursor.fetchall():\n",
    "    print(row)"
   ]
  },
  {
   "cell_type": "code",
   "execution_count": null,
   "metadata": {},
   "outputs": [],
   "source": [
    "con.execute(\"DELETE from cars where id = 2\")\n",
    "con.commit()\n",
    "cursor = con.execute(\"SELECT * from cars\")\n",
    "for row in cursor.fetchall():\n",
    "    print(row)"
   ]
  }
 ],
 "metadata": {
  "kernelspec": {
   "display_name": "Python 3",
   "language": "python",
   "name": "python3"
  },
  "language_info": {
   "codemirror_mode": {
    "name": "ipython",
    "version": 3
   },
   "file_extension": ".py",
   "mimetype": "text/x-python",
   "name": "python",
   "nbconvert_exporter": "python",
   "pygments_lexer": "ipython3",
   "version": "3.6.3"
  }
 },
 "nbformat": 4,
 "nbformat_minor": 2
}
